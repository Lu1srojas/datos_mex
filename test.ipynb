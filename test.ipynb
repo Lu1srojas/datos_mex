{
 "cells": [
  {
   "cell_type": "markdown",
   "metadata": {},
   "source": [
    "![logo](logo.png)"
   ]
  },
  {
   "cell_type": "markdown",
   "metadata": {},
   "source": [
    "# Datos Mex\n",
    "\n",
    "`datos_mex` es una librería construida en Python con la finalidad de consultar datos públicos de México, para el Api del Banco de México ([Banxico](https://www.banxico.org.mx/SieAPIRest/service/v1/)) y el Instituto Nacional de Estadística  y Geografía ([INEGI](https://www.inegi.org.mx/servicios/api_indicadores.html)) . Estas dos instituciones publican información de la economía real como financiera.\n",
    "\n",
    "`datos_mex` esta construida a partir de `pandas` por lo que las consultas retornadas son `pd.Dataframe()`, teniendo asi integración con otras librerías como `Matplotlib`, `Seaborn` o `Statsmodels`.\n",
    "\n",
    "## API INEGI\n",
    "\n",
    "### Token\n",
    "\n",
    "Puedes obtener un Token en la siguiente [URL](https://www.inegi.org.mx/app/api/denue/v1/tokenVerify.aspx), mientras que los indicadores los puedes consultar en [API](https://www.inegi.org.mx/servicios/api_indicadores.html), en la misma pagina se consultan el BIE como el BISE."
   ]
  },
  {
   "cell_type": "code",
   "execution_count": 4,
   "metadata": {},
   "outputs": [],
   "source": [
    "# Librerias \n",
    "import pandas as pd, seaborn as sns, matplotlib.pyplot as plt,numpy as np\n",
    "\n",
    "# Token\n",
    "from datos_mex.inegi import banco_de_indicadores\n",
    "token= '713ad977-de9d-9fe8-1a8c-5ffb95ee93a6'\n",
    "\n",
    "# A partir de esta se realiza la consulta \n",
    "inegi = banco_de_indicadores(token)"
   ]
  },
  {
   "cell_type": "markdown",
   "metadata": {},
   "source": [
    "#### **Parametros de la consulta**\n",
    "\n",
    "Una consulta se puede realizar a partir de los siguientes comandos: \n",
    "\n",
    "- banco_de_indicadores(token).request()\n",
    "- inegi.request()\n",
    "\n",
    "Parametros request \n",
    "\n",
    "- var: str\n",
    "- bank: str\n",
    "    - BIE: Banco de indicadores económico\n",
    "    - BISE: Banco de Indicadores \n",
    "- start (opcional):  YYYY-MM-DD\n",
    "- end (opcional): YYYY-MM-DD\n",
    "- name (opcional): list\n",
    "\n",
    "### Banco de Información Económica (BIE)\n",
    "\n",
    "En el BIE se encuentra información del PIB por el lado de la demanda y de la oferta, Indices de precios, Cuentas nacionales, Tasas de ocupación y desocupación, así como Encuestas periódicas que realiza esta institución como la ENOE, EMOE, EMIM, ENEC, entre otros.\n",
    "\n",
    "#### Consulta parámetros obligatorios \n",
    "\n",
    "\n",
    "**Consulta:**\n",
    "- Producto Interno Bruto: 735879 \n",
    "- Actividades primarias: 735882\n",
    "- Actividades secundarias: 735883\n",
    "- Actividades terciarias: 735888\n",
    "\n",
    "**Nota:** En caso de no especificar ningún uno parámetro adicional te devuelve la consulta global"
   ]
  },
  {
   "cell_type": "code",
   "execution_count": 6,
   "metadata": {},
   "outputs": [
    {
     "name": "stderr",
     "output_type": "stream",
     "text": [
      "c:\\Users\\el\\OneDrive\\data_mx\\data_mx\\inegi\\_banco_de_indicadores.py:139: UserWarning: Could not infer format, so each element will be parsed individually, falling back to `dateutil`. To ensure parsing is consistent and as-expected, please specify a format.\n",
      "  data['TIME_PERIOD'] = pd.to_datetime(data['TIME_PERIOD'])\n"
     ]
    },
    {
     "data": {
      "text/html": [
       "<div>\n",
       "<style scoped>\n",
       "    .dataframe tbody tr th:only-of-type {\n",
       "        vertical-align: middle;\n",
       "    }\n",
       "\n",
       "    .dataframe tbody tr th {\n",
       "        vertical-align: top;\n",
       "    }\n",
       "\n",
       "    .dataframe thead th {\n",
       "        text-align: right;\n",
       "    }\n",
       "</style>\n",
       "<table border=\"1\" class=\"dataframe\">\n",
       "  <thead>\n",
       "    <tr style=\"text-align: right;\">\n",
       "      <th></th>\n",
       "      <th>TIME_PERIOD</th>\n",
       "      <th>735879</th>\n",
       "      <th>735882</th>\n",
       "      <th>735883</th>\n",
       "      <th>735888</th>\n",
       "    </tr>\n",
       "  </thead>\n",
       "  <tbody>\n",
       "    <tr>\n",
       "      <th>0</th>\n",
       "      <td>1980-01-01</td>\n",
       "      <td>1.040137e+07</td>\n",
       "      <td>419192.590</td>\n",
       "      <td>4014172.291</td>\n",
       "      <td>5383811.941</td>\n",
       "    </tr>\n",
       "    <tr>\n",
       "      <th>1</th>\n",
       "      <td>1980-02-01</td>\n",
       "      <td>1.034235e+07</td>\n",
       "      <td>386092.639</td>\n",
       "      <td>4003454.651</td>\n",
       "      <td>5369491.411</td>\n",
       "    </tr>\n",
       "    <tr>\n",
       "      <th>2</th>\n",
       "      <td>1980-03-01</td>\n",
       "      <td>1.039273e+07</td>\n",
       "      <td>424698.389</td>\n",
       "      <td>4131481.268</td>\n",
       "      <td>5257710.872</td>\n",
       "    </tr>\n",
       "    <tr>\n",
       "      <th>3</th>\n",
       "      <td>1980-04-01</td>\n",
       "      <td>1.092767e+07</td>\n",
       "      <td>412868.415</td>\n",
       "      <td>4149062.192</td>\n",
       "      <td>5745881.173</td>\n",
       "    </tr>\n",
       "    <tr>\n",
       "      <th>4</th>\n",
       "      <td>1981-01-01</td>\n",
       "      <td>1.134585e+07</td>\n",
       "      <td>438850.326</td>\n",
       "      <td>4412239.779</td>\n",
       "      <td>5856656.820</td>\n",
       "    </tr>\n",
       "  </tbody>\n",
       "</table>\n",
       "</div>"
      ],
      "text/plain": [
       "  TIME_PERIOD        735879      735882       735883       735888\n",
       "0  1980-01-01  1.040137e+07  419192.590  4014172.291  5383811.941\n",
       "1  1980-02-01  1.034235e+07  386092.639  4003454.651  5369491.411\n",
       "2  1980-03-01  1.039273e+07  424698.389  4131481.268  5257710.872\n",
       "3  1980-04-01  1.092767e+07  412868.415  4149062.192  5745881.173\n",
       "4  1981-01-01  1.134585e+07  438850.326  4412239.779  5856656.820"
      ]
     },
     "execution_count": 6,
     "metadata": {},
     "output_type": "execute_result"
    }
   ],
   "source": [
    "# Indicadores \n",
    "indbie = '735879,735882,735883,735888'\n",
    "\n",
    "# Consulta \n",
    "bie1 = inegi.request(var=indbie, bank='BIE')\n",
    "bie1.head()"
   ]
  },
  {
   "cell_type": "markdown",
   "metadata": {},
   "source": [
    "#### Consulta con parámetros no obligatorios\n",
    "\n",
    "**Datos:**\n",
    "- Name: Identificadores que reemplazaran a los códigos del API, funciona de Izquierda a derecha\n",
    "- Inicio: Limite inferior\n",
    "- Fin: Limite superior \n"
   ]
  },
  {
   "cell_type": "code",
   "execution_count": 68,
   "metadata": {},
   "outputs": [
    {
     "name": "stderr",
     "output_type": "stream",
     "text": [
      "c:\\Users\\el\\OneDrive\\data_mx\\data_mx\\inegi\\_banco_de_indicadores.py:139: UserWarning: Could not infer format, so each element will be parsed individually, falling back to `dateutil`. To ensure parsing is consistent and as-expected, please specify a format.\n",
      "  data['TIME_PERIOD'] = pd.to_datetime(data['TIME_PERIOD'])\n"
     ]
    },
    {
     "data": {
      "text/html": [
       "<div>\n",
       "<style scoped>\n",
       "    .dataframe tbody tr th:only-of-type {\n",
       "        vertical-align: middle;\n",
       "    }\n",
       "\n",
       "    .dataframe tbody tr th {\n",
       "        vertical-align: top;\n",
       "    }\n",
       "\n",
       "    .dataframe thead th {\n",
       "        text-align: right;\n",
       "    }\n",
       "</style>\n",
       "<table border=\"1\" class=\"dataframe\">\n",
       "  <thead>\n",
       "    <tr style=\"text-align: right;\">\n",
       "      <th></th>\n",
       "      <th>fecha</th>\n",
       "      <th>pib</th>\n",
       "      <th>act_1</th>\n",
       "      <th>act_2</th>\n",
       "      <th>act_3</th>\n",
       "    </tr>\n",
       "  </thead>\n",
       "  <tbody>\n",
       "    <tr>\n",
       "      <th>9</th>\n",
       "      <td>2021-01-01</td>\n",
       "      <td>2.284084e+07</td>\n",
       "      <td>758035.123</td>\n",
       "      <td>7265140.515</td>\n",
       "      <td>1.360932e+07</td>\n",
       "    </tr>\n",
       "    <tr>\n",
       "      <th>10</th>\n",
       "      <td>2021-02-01</td>\n",
       "      <td>2.362332e+07</td>\n",
       "      <td>872394.447</td>\n",
       "      <td>7396306.801</td>\n",
       "      <td>1.406373e+07</td>\n",
       "    </tr>\n",
       "    <tr>\n",
       "      <th>11</th>\n",
       "      <td>2021-03-01</td>\n",
       "      <td>2.320473e+07</td>\n",
       "      <td>720485.108</td>\n",
       "      <td>7417864.609</td>\n",
       "      <td>1.381038e+07</td>\n",
       "    </tr>\n",
       "    <tr>\n",
       "      <th>12</th>\n",
       "      <td>2021-04-01</td>\n",
       "      <td>2.395044e+07</td>\n",
       "      <td>957920.499</td>\n",
       "      <td>7449600.892</td>\n",
       "      <td>1.427720e+07</td>\n",
       "    </tr>\n",
       "    <tr>\n",
       "      <th>13</th>\n",
       "      <td>2022-01-01</td>\n",
       "      <td>2.344404e+07</td>\n",
       "      <td>762523.258</td>\n",
       "      <td>7576903.255</td>\n",
       "      <td>1.381633e+07</td>\n",
       "    </tr>\n",
       "  </tbody>\n",
       "</table>\n",
       "</div>"
      ],
      "text/plain": [
       "        fecha           pib       act_1        act_2         act_3\n",
       "9  2021-01-01  2.284084e+07  758035.123  7265140.515  1.360932e+07\n",
       "10 2021-02-01  2.362332e+07  872394.447  7396306.801  1.406373e+07\n",
       "11 2021-03-01  2.320473e+07  720485.108  7417864.609  1.381038e+07\n",
       "12 2021-04-01  2.395044e+07  957920.499  7449600.892  1.427720e+07\n",
       "13 2022-01-01  2.344404e+07  762523.258  7576903.255  1.381633e+07"
      ]
     },
     "execution_count": 68,
     "metadata": {},
     "output_type": "execute_result"
    }
   ],
   "source": [
    "# Indicadores \n",
    "name = ['pib', 'act_1', 'act_2', 'act_3']\n",
    "inicio = '2018-04-01' \n",
    "fin = '2022-01-01' \n",
    "\n",
    "# Consulta \n",
    "bie2 = inegi.request(var=indbie, bank='BIE',name=name, start = inicio, end = fin)\n",
    "bie2.tail()"
   ]
  },
  {
   "cell_type": "markdown",
   "metadata": {},
   "source": [
    "#### Gráfico \n",
    "\n"
   ]
  },
  {
   "cell_type": "code",
   "execution_count": 69,
   "metadata": {},
   "outputs": [
    {
     "data": {
      "text/plain": [
       "Text(0.5, 1.0, 'PIB y los sectores economicos \\n Valores nominales')"
      ]
     },
     "execution_count": 69,
     "metadata": {},
     "output_type": "execute_result"
    },
    {
     "data": {
      "image/png": "[encoded data removed]",
      "text/plain": [
       "<Figure size 640x480 with 1 Axes>"
      ]
     },
     "metadata": {},
     "output_type": "display_data"
    }
   ],
   "source": [
    "bie2 = pd.melt(bie2, id_vars='fecha')\n",
    "titulo = 'PIB y los sectores economicos \\n Valores nominales'\n",
    "sns.lineplot(bie2, x = 'fecha', y = 'value', hue='variable').set_title(titulo)"
   ]
  },
  {
   "cell_type": "markdown",
   "metadata": {},
   "source": [
    "### Banco de indicadores (BISE) \n",
    "\n",
    "\n",
    "En el BISE resume los indicadores mas importantes de las encuestas recabadas por el INEGI como por ejemplo: \n",
    "- ENIGH (Encuesta de Ingreso y Gasto de los Hogares) el ingreso promedio trimestral por hogar según el decil\n",
    "- Censos de población destaca población total, por género o rango de edades \n",
    "\n",
    "También hay variables cualitativas de Educación, Economia, Geografia,  Gobierno y Salud\n",
    "\n",
    "\n",
    "#### Consulta de la población total en los Estados Unidos Mexicanos"
   ]
  },
  {
   "cell_type": "code",
   "execution_count": 59,
   "metadata": {},
   "outputs": [
    {
     "data": {
      "text/html": [
       "<div>\n",
       "<style scoped>\n",
       "    .dataframe tbody tr th:only-of-type {\n",
       "        vertical-align: middle;\n",
       "    }\n",
       "\n",
       "    .dataframe tbody tr th {\n",
       "        vertical-align: top;\n",
       "    }\n",
       "\n",
       "    .dataframe thead th {\n",
       "        text-align: right;\n",
       "    }\n",
       "</style>\n",
       "<table border=\"1\" class=\"dataframe\">\n",
       "  <thead>\n",
       "    <tr style=\"text-align: right;\">\n",
       "      <th></th>\n",
       "      <th>fecha</th>\n",
       "      <th>pop_tot</th>\n",
       "    </tr>\n",
       "  </thead>\n",
       "  <tbody>\n",
       "    <tr>\n",
       "      <th>10</th>\n",
       "      <td>2000-01-01</td>\n",
       "      <td>97483412.0</td>\n",
       "    </tr>\n",
       "    <tr>\n",
       "      <th>11</th>\n",
       "      <td>2005-01-01</td>\n",
       "      <td>103263388.0</td>\n",
       "    </tr>\n",
       "    <tr>\n",
       "      <th>12</th>\n",
       "      <td>2010-01-01</td>\n",
       "      <td>112336538.0</td>\n",
       "    </tr>\n",
       "    <tr>\n",
       "      <th>13</th>\n",
       "      <td>2015-01-01</td>\n",
       "      <td>119938473.0</td>\n",
       "    </tr>\n",
       "    <tr>\n",
       "      <th>14</th>\n",
       "      <td>2020-01-01</td>\n",
       "      <td>126014024.0</td>\n",
       "    </tr>\n",
       "  </tbody>\n",
       "</table>\n",
       "</div>"
      ],
      "text/plain": [
       "        fecha      pop_tot\n",
       "10 2000-01-01   97483412.0\n",
       "11 2005-01-01  103263388.0\n",
       "12 2010-01-01  112336538.0\n",
       "13 2015-01-01  119938473.0\n",
       "14 2020-01-01  126014024.0"
      ]
     },
     "execution_count": 59,
     "metadata": {},
     "output_type": "execute_result"
    }
   ],
   "source": [
    "# Indicadores\n",
    "indbise = '1002000001' \n",
    "name = ['pop_tot']\n",
    "\n",
    "# Consulta\n",
    "bise = inegi.request(var=indbise, bank='BISE', name=name)\n",
    "bise.tail()"
   ]
  },
  {
   "cell_type": "markdown",
   "metadata": {},
   "source": [
    "## API Banco de Mexico\n",
    "\n",
    "### Token\n",
    "\n",
    "Puedes obtener un Token en la siguiente [URL](https://www.banxico.org.mx/SieAPIRest/service/v1/token), mientras que los indicadores los puedes consultar en [API](https://www.banxico.org.mx/SieAPIRest/service/v1/)"
   ]
  },
  {
   "cell_type": "code",
   "execution_count": 7,
   "metadata": {},
   "outputs": [],
   "source": [
    "### Token\n",
    "from datos_mex.banxico import sie\n",
    "tokenbm = 'b5e3c6286b700cb562ab06fca14c02a366b3e0a215dc1c0868fbe470839b2171'\n",
    "\n",
    "# A partir de esta se realiza la consulta \n",
    "banxico = sie(tokenbm)"
   ]
  },
  {
   "cell_type": "markdown",
   "metadata": {},
   "source": [
    "### **Parametros**\n",
    "Una consulta se puede realizar a partir de los siguientes comandos: \n",
    "\n",
    "- sie(token).request()\n",
    "- banxico.request()\n",
    "\n",
    "Parametros request:\n",
    "- var: str\n",
    "- start (opcional): YYYY-MM-DD\n",
    "- end (end): YYYY-MM-DD\n",
    "\n",
    "\n",
    "\n",
    "### Sistema de información Económica (SIE)\n",
    "\n",
    "En el SIE principalmente se puede encontrar información financiera como Tasas de interés, UDIS, Base Monetaria, Tipo de Cambio, Subastas de Valores o Encuestas realizadas por esta institución así como el índice de precios, PIB o Indicadores laborales que son elaborados por otras instituciones.\n",
    "\n",
    "\n",
    "#### Valor de los UDIS\n"
   ]
  },
  {
   "cell_type": "code",
   "execution_count": 8,
   "metadata": {},
   "outputs": [
    {
     "data": {
      "text/html": [
       "<div>\n",
       "<style scoped>\n",
       "    .dataframe tbody tr th:only-of-type {\n",
       "        vertical-align: middle;\n",
       "    }\n",
       "\n",
       "    .dataframe tbody tr th {\n",
       "        vertical-align: top;\n",
       "    }\n",
       "\n",
       "    .dataframe thead th {\n",
       "        text-align: right;\n",
       "    }\n",
       "</style>\n",
       "<table border=\"1\" class=\"dataframe\">\n",
       "  <thead>\n",
       "    <tr style=\"text-align: right;\">\n",
       "      <th></th>\n",
       "      <th>fecha</th>\n",
       "      <th>Valor de UDIS</th>\n",
       "    </tr>\n",
       "  </thead>\n",
       "  <tbody>\n",
       "    <tr>\n",
       "      <th>5499</th>\n",
       "      <td>2025-01-21</td>\n",
       "      <td>8.365472</td>\n",
       "    </tr>\n",
       "    <tr>\n",
       "      <th>5500</th>\n",
       "      <td>2025-01-22</td>\n",
       "      <td>8.365699</td>\n",
       "    </tr>\n",
       "    <tr>\n",
       "      <th>5501</th>\n",
       "      <td>2025-01-23</td>\n",
       "      <td>8.365925</td>\n",
       "    </tr>\n",
       "    <tr>\n",
       "      <th>5502</th>\n",
       "      <td>2025-01-24</td>\n",
       "      <td>8.366152</td>\n",
       "    </tr>\n",
       "    <tr>\n",
       "      <th>5503</th>\n",
       "      <td>2025-01-25</td>\n",
       "      <td>8.366378</td>\n",
       "    </tr>\n",
       "  </tbody>\n",
       "</table>\n",
       "</div>"
      ],
      "text/plain": [
       "          fecha  Valor de UDIS\n",
       "5499 2025-01-21       8.365472\n",
       "5500 2025-01-22       8.365699\n",
       "5501 2025-01-23       8.365925\n",
       "5502 2025-01-24       8.366152\n",
       "5503 2025-01-25       8.366378"
      ]
     },
     "execution_count": 8,
     "metadata": {},
     "output_type": "execute_result"
    }
   ],
   "source": [
    "#### Parametros\n",
    "start = '2010-1-1'\n",
    "udis = 'SP68257'\n",
    "\n",
    "#### Consulta \n",
    "udis = banxico.request(var= udis, start= start)\n",
    "udis.tail()"
   ]
  },
  {
   "cell_type": "markdown",
   "metadata": {},
   "source": [
    "**Notas:** \n",
    "- En el caso del API de Banxico no es necesario renombrar las consultas, debido a que ya poseen identificadores  \n",
    "- Al momento de descargar datos desde el SIE puedes conocer el indicador de las variables para el API, debido a que se encuentran dentro del .xlsx en la fila de fecha \n",
    "\n",
    "##### Gráfico"
   ]
  },
  {
   "cell_type": "code",
   "execution_count": 9,
   "metadata": {},
   "outputs": [
    {
     "data": {
      "text/plain": [
       "Text(0.5, 1.0, 'Valor de UDIS')"
      ]
     },
     "execution_count": 9,
     "metadata": {},
     "output_type": "execute_result"
    },
    {
     "data": {
      "image/png": "[encoded data removed]",
      "text/plain": [
       "<Figure size 640x480 with 1 Axes>"
      ]
     },
     "metadata": {},
     "output_type": "display_data"
    }
   ],
   "source": [
    "# Plot\n",
    "titulo = 'Valor de UDIS'\n",
    "sns.lineplot(udis, x ='fecha', y ='Valor de UDIS').set_title(titulo)"
   ]
  },
  {
   "cell_type": "markdown",
   "metadata": {},
   "source": [
    "#### Consulta de la Base Monetaria, Crédito Interno y Activos Internacionales\n",
    "\n",
    "**Consulta:**\n",
    "- Base Monetaria (BM): SF43703\n",
    "- Activos Internacionales (AIC): SF43704\n",
    "- Crédito Interno (CIN): SF43706"
   ]
  },
  {
   "cell_type": "code",
   "execution_count": 10,
   "metadata": {},
   "outputs": [
    {
     "data": {
      "text/html": [
       "<div>\n",
       "<style scoped>\n",
       "    .dataframe tbody tr th:only-of-type {\n",
       "        vertical-align: middle;\n",
       "    }\n",
       "\n",
       "    .dataframe tbody tr th {\n",
       "        vertical-align: top;\n",
       "    }\n",
       "\n",
       "    .dataframe thead th {\n",
       "        text-align: right;\n",
       "    }\n",
       "</style>\n",
       "<table border=\"1\" class=\"dataframe\">\n",
       "  <thead>\n",
       "    <tr style=\"text-align: right;\">\n",
       "      <th></th>\n",
       "      <th>fecha</th>\n",
       "      <th>Activos Internacionales Netos</th>\n",
       "      <th>Crédito Interno Neto</th>\n",
       "      <th>Base Monetaria</th>\n",
       "    </tr>\n",
       "  </thead>\n",
       "  <tbody>\n",
       "    <tr>\n",
       "      <th>1512</th>\n",
       "      <td>2024-12-13</td>\n",
       "      <td>4678575.7</td>\n",
       "      <td>-1455509.3</td>\n",
       "      <td>3223066.4</td>\n",
       "    </tr>\n",
       "    <tr>\n",
       "      <th>1513</th>\n",
       "      <td>2024-12-20</td>\n",
       "      <td>4653978.9</td>\n",
       "      <td>-1399500.7</td>\n",
       "      <td>3254478.2</td>\n",
       "    </tr>\n",
       "    <tr>\n",
       "      <th>1514</th>\n",
       "      <td>2024-12-27</td>\n",
       "      <td>4698177.2</td>\n",
       "      <td>-1403433.5</td>\n",
       "      <td>3294743.7</td>\n",
       "    </tr>\n",
       "    <tr>\n",
       "      <th>1515</th>\n",
       "      <td>2025-01-03</td>\n",
       "      <td>4798075.1</td>\n",
       "      <td>-1493095.0</td>\n",
       "      <td>3304980.1</td>\n",
       "    </tr>\n",
       "    <tr>\n",
       "      <th>1516</th>\n",
       "      <td>2025-01-10</td>\n",
       "      <td>4795593.9</td>\n",
       "      <td>-1497493.5</td>\n",
       "      <td>3298100.4</td>\n",
       "    </tr>\n",
       "  </tbody>\n",
       "</table>\n",
       "</div>"
      ],
      "text/plain": [
       "          fecha  Activos Internacionales Netos  Crédito Interno Neto  \\\n",
       "1512 2024-12-13                      4678575.7            -1455509.3   \n",
       "1513 2024-12-20                      4653978.9            -1399500.7   \n",
       "1514 2024-12-27                      4698177.2            -1403433.5   \n",
       "1515 2025-01-03                      4798075.1            -1493095.0   \n",
       "1516 2025-01-10                      4795593.9            -1497493.5   \n",
       "\n",
       "      Base Monetaria  \n",
       "1512       3223066.4  \n",
       "1513       3254478.2  \n",
       "1514       3294743.7  \n",
       "1515       3304980.1  \n",
       "1516       3298100.4  "
      ]
     },
     "execution_count": 10,
     "metadata": {},
     "output_type": "execute_result"
    }
   ],
   "source": [
    "# Indicadores \n",
    "var = 'SF43703,SF43704,SF43706'\n",
    "\n",
    "# Consulta \n",
    "bm = banxico.request(var= var)\n",
    "bm.tail()"
   ]
  },
  {
   "cell_type": "markdown",
   "metadata": {},
   "source": [
    "##### Gráfico de BM, AIC, CIN"
   ]
  },
  {
   "cell_type": "code",
   "execution_count": 11,
   "metadata": {},
   "outputs": [
    {
     "data": {
      "text/plain": [
       "Text(0.5, 1.0, 'BM, AIC, CIN')"
      ]
     },
     "execution_count": 11,
     "metadata": {},
     "output_type": "execute_result"
    },
    {
     "data": {
      "image/png": "[encoded data removed]",
      "text/plain": [
       "<Figure size 640x480 with 1 Axes>"
      ]
     },
     "metadata": {},
     "output_type": "display_data"
    }
   ],
   "source": [
    "# Gráfico \n",
    "bm1 = bm.melt(id_vars='fecha')\n",
    "titulo = 'BM, AIC, CIN'\n",
    "sns.lineplot(bm1, x = 'fecha', y = 'value', hue='variable').set_title(titulo)"
   ]
  },
  {
   "cell_type": "markdown",
   "metadata": {},
   "source": [
    "## Auxiliares \n",
    "\n",
    "Estos son una serie de códigos auxiliares que facilitan el procesamiento de las consultas \n",
    "\n"
   ]
  },
  {
   "cell_type": "markdown",
   "metadata": {},
   "source": [
    "### Renombrar (rename)\n",
    "\n",
    "La función **rename** cambia los valores de los encabezados de un data frame mediante el index\n",
    "\n",
    "#### **Parametros:**\n",
    "- data: DataFrame\n",
    "- names: List"
   ]
  },
  {
   "cell_type": "code",
   "execution_count": 12,
   "metadata": {},
   "outputs": [
    {
     "data": {
      "text/html": [
       "<div>\n",
       "<style scoped>\n",
       "    .dataframe tbody tr th:only-of-type {\n",
       "        vertical-align: middle;\n",
       "    }\n",
       "\n",
       "    .dataframe tbody tr th {\n",
       "        vertical-align: top;\n",
       "    }\n",
       "\n",
       "    .dataframe thead th {\n",
       "        text-align: right;\n",
       "    }\n",
       "</style>\n",
       "<table border=\"1\" class=\"dataframe\">\n",
       "  <thead>\n",
       "    <tr style=\"text-align: right;\">\n",
       "      <th></th>\n",
       "      <th>fecha</th>\n",
       "      <th>BM</th>\n",
       "      <th>CIN</th>\n",
       "      <th>AIC</th>\n",
       "    </tr>\n",
       "  </thead>\n",
       "  <tbody>\n",
       "    <tr>\n",
       "      <th>1512</th>\n",
       "      <td>2024-12-13</td>\n",
       "      <td>4678575.7</td>\n",
       "      <td>-1455509.3</td>\n",
       "      <td>3223066.4</td>\n",
       "    </tr>\n",
       "    <tr>\n",
       "      <th>1513</th>\n",
       "      <td>2024-12-20</td>\n",
       "      <td>4653978.9</td>\n",
       "      <td>-1399500.7</td>\n",
       "      <td>3254478.2</td>\n",
       "    </tr>\n",
       "    <tr>\n",
       "      <th>1514</th>\n",
       "      <td>2024-12-27</td>\n",
       "      <td>4698177.2</td>\n",
       "      <td>-1403433.5</td>\n",
       "      <td>3294743.7</td>\n",
       "    </tr>\n",
       "    <tr>\n",
       "      <th>1515</th>\n",
       "      <td>2025-01-03</td>\n",
       "      <td>4798075.1</td>\n",
       "      <td>-1493095.0</td>\n",
       "      <td>3304980.1</td>\n",
       "    </tr>\n",
       "    <tr>\n",
       "      <th>1516</th>\n",
       "      <td>2025-01-10</td>\n",
       "      <td>4795593.9</td>\n",
       "      <td>-1497493.5</td>\n",
       "      <td>3298100.4</td>\n",
       "    </tr>\n",
       "  </tbody>\n",
       "</table>\n",
       "</div>"
      ],
      "text/plain": [
       "          fecha         BM        CIN        AIC\n",
       "1512 2024-12-13  4678575.7 -1455509.3  3223066.4\n",
       "1513 2024-12-20  4653978.9 -1399500.7  3254478.2\n",
       "1514 2024-12-27  4698177.2 -1403433.5  3294743.7\n",
       "1515 2025-01-03  4798075.1 -1493095.0  3304980.1\n",
       "1516 2025-01-10  4795593.9 -1497493.5  3298100.4"
      ]
     },
     "execution_count": 12,
     "metadata": {},
     "output_type": "execute_result"
    }
   ],
   "source": [
    "# Libreria\n",
    "from datos_mex.data_format import rename\n",
    "\n",
    "# Renombrar variables \n",
    "names = ['fecha','BM', 'CIN', 'AIC']\n",
    "bm = rename(bm, names)\n",
    "\n",
    "bm.tail()"
   ]
  },
  {
   "cell_type": "markdown",
   "metadata": {},
   "source": [
    "### Agrupar (group_by_time)\n",
    "\n",
    "La función **group_by_time()** es un fork de la función pandas.DataFrame.groupby(), está únicamente funciona con consultas realizadas con esta librería. La finalidad de esta función es agrupar los datos según el mes o año\n",
    "\n",
    "#### **Parametros:** \n",
    "\n",
    "**Data:** DataFrame\n",
    "\n",
    "**Year:** bool\n",
    "- True: Año\n",
    "- False: Mes \n",
    "\n",
    "**Operation:** 'str'\n",
    "- mean\n",
    "- meadian\n",
    "- sum\n"
   ]
  },
  {
   "cell_type": "code",
   "execution_count": 13,
   "metadata": {},
   "outputs": [
    {
     "data": {
      "text/html": [
       "<div>\n",
       "<style scoped>\n",
       "    .dataframe tbody tr th:only-of-type {\n",
       "        vertical-align: middle;\n",
       "    }\n",
       "\n",
       "    .dataframe tbody tr th {\n",
       "        vertical-align: top;\n",
       "    }\n",
       "\n",
       "    .dataframe thead th {\n",
       "        text-align: right;\n",
       "    }\n",
       "</style>\n",
       "<table border=\"1\" class=\"dataframe\">\n",
       "  <thead>\n",
       "    <tr style=\"text-align: right;\">\n",
       "      <th></th>\n",
       "      <th>fecha</th>\n",
       "      <th>BM</th>\n",
       "      <th>CIN</th>\n",
       "      <th>AIC</th>\n",
       "    </tr>\n",
       "  </thead>\n",
       "  <tbody>\n",
       "    <tr>\n",
       "      <th>345</th>\n",
       "      <td>2024-09-01</td>\n",
       "      <td>4525193.625</td>\n",
       "      <td>-1453882.950</td>\n",
       "      <td>3071310.675</td>\n",
       "    </tr>\n",
       "    <tr>\n",
       "      <th>346</th>\n",
       "      <td>2024-10-01</td>\n",
       "      <td>4511781.675</td>\n",
       "      <td>-1445313.150</td>\n",
       "      <td>3066468.525</td>\n",
       "    </tr>\n",
       "    <tr>\n",
       "      <th>347</th>\n",
       "      <td>2024-11-01</td>\n",
       "      <td>4664126.300</td>\n",
       "      <td>-1537982.600</td>\n",
       "      <td>3126143.700</td>\n",
       "    </tr>\n",
       "    <tr>\n",
       "      <th>348</th>\n",
       "      <td>2024-12-01</td>\n",
       "      <td>4683622.925</td>\n",
       "      <td>-1441827.175</td>\n",
       "      <td>3241795.750</td>\n",
       "    </tr>\n",
       "    <tr>\n",
       "      <th>349</th>\n",
       "      <td>2025-01-01</td>\n",
       "      <td>4796834.500</td>\n",
       "      <td>-1495294.250</td>\n",
       "      <td>3301540.250</td>\n",
       "    </tr>\n",
       "  </tbody>\n",
       "</table>\n",
       "</div>"
      ],
      "text/plain": [
       "         fecha           BM          CIN          AIC\n",
       "345 2024-09-01  4525193.625 -1453882.950  3071310.675\n",
       "346 2024-10-01  4511781.675 -1445313.150  3066468.525\n",
       "347 2024-11-01  4664126.300 -1537982.600  3126143.700\n",
       "348 2024-12-01  4683622.925 -1441827.175  3241795.750\n",
       "349 2025-01-01  4796834.500 -1495294.250  3301540.250"
      ]
     },
     "execution_count": 13,
     "metadata": {},
     "output_type": "execute_result"
    }
   ],
   "source": [
    "# Libreria\n",
    "from datos_mex.data_format import group_by_time \n",
    "\n",
    "# Base Monetaria por meses \n",
    "bm_m = group_by_time(bm, False,'mean')\n",
    "bm_m.tail()\n"
   ]
  }
 ],
 "metadata": {
  "kernelspec": {
   "display_name": "base",
   "language": "python",
   "name": "python3"
  },
  "language_info": {
   "codemirror_mode": {
    "name": "ipython",
    "version": 3
   },
   "file_extension": ".py",
   "mimetype": "text/x-python",
   "name": "python",
   "nbconvert_exporter": "python",
   "pygments_lexer": "ipython3",
   "version": "3.12.4"
  }
 },
 "nbformat": 4,
 "nbformat_minor": 2
}
